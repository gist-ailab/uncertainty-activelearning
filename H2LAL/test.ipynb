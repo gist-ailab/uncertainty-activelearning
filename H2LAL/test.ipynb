{
 "cells": [
  {
   "cell_type": "code",
   "execution_count": 7,
   "metadata": {},
   "outputs": [],
   "source": [
    "import os\n",
    "import torch\n",
    "import torch.functional as F\n",
    "import torchvision\n",
    "import torch.backends.cudnn as cudnn\n",
    "import torchvision.transforms as transforms\n",
    "from loader import General_Loader_withpath, Loader, Loader2, General_Loader\n",
    "import matplotlib.pyplot as plt\n",
    "from models.resnet_128 import *"
   ]
  },
  {
   "cell_type": "code",
   "execution_count": 44,
   "metadata": {},
   "outputs": [],
   "source": [
    "os.environ[\"CUDA_VISIBLE_DEVICES\"]='6'\n",
    "server_name = 'hinton'\n",
    "parameter_path = f'/home/{server_name}/NAS_AIlab_dataset/personal/heo_yunjae/Parameters/Uncertainty/h2lal/cifar10/h2l'\n",
    "data_path = f'/home/{server_name}/NAS_AIlab_dataset/dataset/cifar10'\n",
    "\n",
    "device = 'cuda' if torch.cuda.is_available() else 'cpu'\n",
    "\n",
    "net = ResNet18()\n",
    "\n",
    "net = net.to(device)\n",
    "if device == 'cuda':\n",
    "    net = torch.nn.DataParallel(net)\n",
    "    cudnn.benchmark = True\n",
    "\n",
    "epi = 4\n",
    "checkpoint = torch.load(parameter_path+f'/checkpoint/main_{epi}.pth')\n",
    "net.load_state_dict(checkpoint['net'])\n",
    "\n",
    "classes = {'airplane':0, 'automobile':1, 'bird':2, 'cat':3, 'deer':4,\n",
    "           'dog':5, 'frog':6, 'horse':7, 'ship':8, 'truck':9}\n",
    "\n",
    "transform_test = transforms.Compose([\n",
    "    transforms.ToTensor(),\n",
    "    transforms.Normalize((0.4914, 0.4822, 0.4465), (0.2023, 0.1994, 0.2010)),\n",
    "])\n",
    "\n",
    "testset = General_Loader_withpath(is_train=False,  transform=transform_test, name_dict=classes, path=data_path)\n",
    "testloader = torch.utils.data.DataLoader(testset, batch_size=1, shuffle=False)"
   ]
  },
  {
   "cell_type": "code",
   "execution_count": 45,
   "metadata": {},
   "outputs": [],
   "source": [
    "criterion = nn.CrossEntropyLoss()\n",
    "global best_acc\n",
    "net.eval()\n",
    "test_loss = 0\n",
    "correct = 0\n",
    "total = 0\n",
    "result_list = []\n",
    "with torch.no_grad():\n",
    "    for batch_idx, (inputs, targets, path) in enumerate(testloader):\n",
    "        inputs, targets = inputs.to(device), targets.to(device)\n",
    "        outputs = net(inputs)\n",
    "        loss = criterion(outputs, targets)\n",
    "        _, predicted = outputs.max(1)\n",
    "        confidence = torch.max(F.softmax(outputs/10, dim=-1))\n",
    "        result_list.append((float(confidence), float(predicted.eq(targets).sum().item()), path[0]))\n",
    "\n",
    "        test_loss += loss.item()\n",
    "        _, predicted = outputs.max(1)\n",
    "        total += targets.size(0)\n",
    "        correct += predicted.eq(targets).sum().item()"
   ]
  },
  {
   "cell_type": "code",
   "execution_count": 46,
   "metadata": {},
   "outputs": [],
   "source": [
    "n = len(result_list)\n",
    "result_list.sort(key=lambda x:x[0], reverse=True)\n",
    "result_dict = dict()\n",
    "for i in range(9):\n",
    "    result_dict[i] = result_list[i*(n//9):(i+1)*(n//9)]\n",
    "    # print(len(result_dict[i]))"
   ]
  },
  {
   "cell_type": "code",
   "execution_count": 47,
   "metadata": {},
   "outputs": [
    {
     "name": "stdout",
     "output_type": "stream",
     "text": [
      "9\n",
      "3\n",
      "22\n",
      "35\n",
      "77\n",
      "136\n",
      "261\n",
      "426\n",
      "524\n",
      "709\n",
      "(0.993591845035553, 1.0, '/home/hinton/NAS_AIlab_dataset/dataset/cifar10/test/automobile/automobile_s_000885.png')\n"
     ]
    }
   ],
   "source": [
    "print(len(result_dict))\n",
    "for i in range(9):\n",
    "    count = 0\n",
    "    for j in range(len(result_dict[i])):\n",
    "        if result_dict[i][j][1]==0.0:\n",
    "            count += 1\n",
    "    print(count)\n",
    "print(result_dict[2][-1])"
   ]
  }
 ],
 "metadata": {
  "kernelspec": {
   "display_name": "Python 3.7.12 ('hyj_h2lal')",
   "language": "python",
   "name": "python3"
  },
  "language_info": {
   "codemirror_mode": {
    "name": "ipython",
    "version": 3
   },
   "file_extension": ".py",
   "mimetype": "text/x-python",
   "name": "python",
   "nbconvert_exporter": "python",
   "pygments_lexer": "ipython3",
   "version": "3.7.12"
  },
  "orig_nbformat": 4,
  "vscode": {
   "interpreter": {
    "hash": "f8f2537c0aaa862b5826497978137e0f560bb3934e3f9797aeadc4972c8c7917"
   }
  }
 },
 "nbformat": 4,
 "nbformat_minor": 2
}
