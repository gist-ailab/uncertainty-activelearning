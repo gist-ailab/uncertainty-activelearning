{
 "cells": [
  {
   "cell_type": "code",
   "execution_count": 1,
   "metadata": {},
   "outputs": [
    {
     "name": "stderr",
     "output_type": "stream",
     "text": [
      "/home/bengio/anaconda3/envs/hyj_spice/lib/python3.8/site-packages/tqdm/auto.py:22: TqdmWarning: IProgress not found. Please update jupyter and ipywidgets. See https://ipywidgets.readthedocs.io/en/stable/user_install.html\n",
      "  from .autonotebook import tqdm as notebook_tqdm\n"
     ]
    },
    {
     "name": "stdout",
     "output_type": "stream",
     "text": [
      "Files already downloaded and verified\n",
      "(<PIL.Image.Image image mode=RGB size=32x32 at 0x7FF2DECFA700>, 6)\n"
     ]
    }
   ],
   "source": [
    "from torchvision import datasets\n",
    "from torch.utils.data import Subset, Dataset\n",
    "\n",
    "train_dataset = datasets.CIFAR10('/ailab_mat/personal/heo_yunjae/uncertainty-activelearning/domain_divergence/data', download=True)\n",
    "print(train_dataset[0])"
   ]
  },
  {
   "cell_type": "code",
   "execution_count": 4,
   "metadata": {},
   "outputs": [
    {
     "name": "stdout",
     "output_type": "stream",
     "text": [
      "[30574, 29302, 5537, 43080, 49286, 41699, 38075, 7640, 5744, 46592]\n"
     ]
    }
   ],
   "source": [
    "import random\n",
    "\n",
    "idx = [i for i in range(50000)]\n",
    "random.shuffle(idx)\n",
    "print(idx[:10])"
   ]
  },
  {
   "cell_type": "code",
   "execution_count": 45,
   "metadata": {},
   "outputs": [],
   "source": [
    "import pickle\n",
    "\n",
    "with open('/ailab_mat/personal/heo_yunjae/Parameters/Uncertainty/domian_divergence/seed0/epoch1/lbl_idx.pkl', 'rb') as f:\n",
    "    lbl_idx = pickle.load(f)\n",
    "    \n",
    "with open('/ailab_mat/personal/heo_yunjae/Parameters/Uncertainty/domian_divergence/seed0/epoch1/ulbl_idx.pkl', 'rb') as f:\n",
    "    ulbl_idx = pickle.load(f)\n"
   ]
  },
  {
   "cell_type": "code",
   "execution_count": 46,
   "metadata": {},
   "outputs": [
    {
     "name": "stdout",
     "output_type": "stream",
     "text": [
      "2000\n",
      "49000\n",
      "lbl_idx\n",
      "0\n",
      "2000\n"
     ]
    }
   ],
   "source": [
    "print(len(lbl_idx))\n",
    "print(len(ulbl_idx))\n",
    "\n",
    "print('lbl_idx')\n",
    "lbl_idx = list(lbl_idx)\n",
    "box = []\n",
    "for idx in lbl_idx:\n",
    "    if lbl_idx.count(idx) > 1:\n",
    "        # print(idx, lbl_idx.count(idx))\n",
    "        lbl_idx.remove(idx)\n",
    "        box.append(idx)\n",
    "print(len(box))\n",
    "print(len(lbl_idx))"
   ]
  },
  {
   "cell_type": "code",
   "execution_count": 69,
   "metadata": {},
   "outputs": [
    {
     "name": "stdout",
     "output_type": "stream",
     "text": [
      "tensor([0.5587, 0.6030, 0.5612, 0.6301, 0.3860, 0.6361, 0.3459, 0.4786, 0.3404,\n",
      "        0.5468, 0.4915, 0.3141, 0.5511, 0.4286, 0.5861, 0.5883, 0.5124, 0.5853,\n",
      "        0.3891, 0.5621, 0.6328, 0.3745, 0.6507, 0.3814, 0.5324, 0.4749, 0.4305,\n",
      "        0.5261, 0.5144, 0.6315, 0.4317, 0.4497, 0.3387, 0.7062, 0.3978, 0.7165,\n",
      "        0.4559, 0.3991, 0.4657, 0.5599, 0.6847, 0.3900, 0.6515, 0.4622, 0.4597,\n",
      "        0.5955, 0.4800, 0.4763, 0.3708, 0.4901, 0.6303, 0.3826, 0.6199, 0.4665,\n",
      "        0.4204, 0.5745, 0.4949, 0.4716, 0.5530, 0.6062, 0.6354, 0.5310, 0.4577,\n",
      "        0.5804], device='cuda:0')\n",
      "tensor([0.5587, 0.6030, 0.5612, 0.6301, 0.3860, 0.6361, 0.3459, 0.4786, 0.3404,\n",
      "        0.5468, 0.4915, 0.3141, 0.5511, 0.4286, 0.5861, 0.5883, 0.5124, 0.5853,\n",
      "        0.3891, 0.5621, 0.6328, 0.3745, 0.6507, 0.3814, 0.5324, 0.4749, 0.4305,\n",
      "        0.5261, 0.5144, 0.6315, 0.4317, 0.4497, 0.3387, 0.7062, 0.3978, 0.7165,\n",
      "        0.4559, 0.3991, 0.4657, 0.5599, 0.6847, 0.3900, 0.6515, 0.4622, 0.4597,\n",
      "        0.5955, 0.4800, 0.4763, 0.3708, 0.4901, 0.6303, 0.3826, 0.6199, 0.4665,\n",
      "        0.4204, 0.5745, 0.4949, 0.4716, 0.5530, 0.6062, 0.6354, 0.5310, 0.4577,\n",
      "        0.5804], device='cuda:0')\n"
     ]
    }
   ],
   "source": [
    "import torch\n",
    "import torch.nn.functional as F\n",
    "\n",
    "device = 'cuda'\n",
    "\n",
    "temp = torch.tensor([]).to(device)\n",
    "a = torch.rand([64,2]).to(device)\n",
    "a = F.softmax(a, 1)\n",
    "# b = torch.max(a, dim=1)\n",
    "b = a[:,0]\n",
    "print(b)\n",
    "temp = torch.cat((temp,b),dim=0)\n",
    "print(temp)"
   ]
  },
  {
   "cell_type": "code",
   "execution_count": 73,
   "metadata": {},
   "outputs": [
    {
     "name": "stdout",
     "output_type": "stream",
     "text": [
      "Files already downloaded and verified\n",
      "tensor([6, 9, 9, 4, 1, 1, 2, 7, 8, 3, 4, 7, 7, 2, 9, 9, 9, 3, 2, 6, 4, 3, 6, 6,\n",
      "        2, 6, 3, 5, 4, 0, 0, 9])\n"
     ]
    }
   ],
   "source": [
    "import enum\n",
    "import dataset\n",
    "from torchvision import datasets\n",
    "from torch.utils.data import DataLoader\n",
    "import utils\n",
    "import random\n",
    "\n",
    "datapath = '/ailab_mat/personal/heo_yunjae/Parameters/Uncertainty/data'\n",
    "train_dataset = datasets.CIFAR10(datapath, download=True, transform=utils.get_rand_augment('cifar10'))\n",
    "dataloader = DataLoader(train_dataset, 32)\n",
    "\n",
    "for (data,label) in dataloader:\n",
    "    print(label)\n",
    "    break\n"
   ]
  },
  {
   "cell_type": "code",
   "execution_count": 145,
   "metadata": {},
   "outputs": [
    {
     "name": "stdout",
     "output_type": "stream",
     "text": [
      "tensor([[0.5788, 0.1523],\n",
      "        [0.8336, 0.9204],\n",
      "        [0.0550, 0.9702]])\n",
      "tensor([0.5788, 0.8336, 0.0550])\n",
      "tensor([[0.7092, 0.2525],\n",
      "        [0.4949, 0.5697],\n",
      "        [0.8030, 0.5981]])\n",
      "tensor([1.2880, 1.3285, 0.8579])\n"
     ]
    }
   ],
   "source": [
    "import torch\n",
    "\n",
    "a = torch.rand([3,2])\n",
    "b = torch.rand([3,2])\n",
    "\n",
    "print(a)\n",
    "print(a[:,0])\n",
    "print(b)\n",
    "\n",
    "print(a[:,0]+b[:,0])"
   ]
  }
 ],
 "metadata": {
  "kernelspec": {
   "display_name": "Python 3.8.13 ('hyj_spice')",
   "language": "python",
   "name": "python3"
  },
  "language_info": {
   "codemirror_mode": {
    "name": "ipython",
    "version": 3
   },
   "file_extension": ".py",
   "mimetype": "text/x-python",
   "name": "python",
   "nbconvert_exporter": "python",
   "pygments_lexer": "ipython3",
   "version": "3.8.13"
  },
  "orig_nbformat": 4,
  "vscode": {
   "interpreter": {
    "hash": "31e0fc47fabfb722aaf0b8cfc874759de2bcc58da5f34e63f0fae12520165f0b"
   }
  }
 },
 "nbformat": 4,
 "nbformat_minor": 2
}
