{
 "cells": [
  {
   "cell_type": "code",
   "execution_count": 1,
   "metadata": {},
   "outputs": [
    {
     "name": "stderr",
     "output_type": "stream",
     "text": [
      "/home/bengio/anaconda3/envs/hyj_spice/lib/python3.8/site-packages/tqdm/auto.py:22: TqdmWarning: IProgress not found. Please update jupyter and ipywidgets. See https://ipywidgets.readthedocs.io/en/stable/user_install.html\n",
      "  from .autonotebook import tqdm as notebook_tqdm\n"
     ]
    },
    {
     "name": "stdout",
     "output_type": "stream",
     "text": [
      "Files already downloaded and verified\n",
      "(<PIL.Image.Image image mode=RGB size=32x32 at 0x7FF2DECFA700>, 6)\n"
     ]
    }
   ],
   "source": [
    "from torchvision import datasets\n",
    "from torch.utils.data import Subset, Dataset\n",
    "\n",
    "train_dataset = datasets.CIFAR10('/ailab_mat/personal/heo_yunjae/uncertainty-activelearning/domain_divergence/data', download=True)\n",
    "print(train_dataset[0])"
   ]
  },
  {
   "cell_type": "code",
   "execution_count": 4,
   "metadata": {},
   "outputs": [
    {
     "name": "stdout",
     "output_type": "stream",
     "text": [
      "[30574, 29302, 5537, 43080, 49286, 41699, 38075, 7640, 5744, 46592]\n"
     ]
    }
   ],
   "source": [
    "import random\n",
    "\n",
    "idx = [i for i in range(50000)]\n",
    "random.shuffle(idx)\n",
    "print(idx[:10])"
   ]
  },
  {
   "cell_type": "code",
   "execution_count": 15,
   "metadata": {},
   "outputs": [],
   "source": [
    "import pickle\n",
    "\n",
    "with open('/ailab_mat/personal/heo_yunjae/Parameters/Uncertainty/domian_divergence/seed0/epoch1/lbl_idx.pkl', 'rb') as f:\n",
    "    lbl_idx = pickle.load(f)\n",
    "    \n",
    "with open('/ailab_mat/personal/heo_yunjae/Parameters/Uncertainty/domian_divergence/seed0/epoch1/ulbl_idx.pkl', 'rb') as f:\n",
    "    ulbl_idx = pickle.load(f)\n"
   ]
  },
  {
   "cell_type": "code",
   "execution_count": 31,
   "metadata": {},
   "outputs": [
    {
     "name": "stdout",
     "output_type": "stream",
     "text": [
      "1979\n",
      "48021\n",
      "lbl_idx\n",
      "0\n",
      "1979\n"
     ]
    }
   ],
   "source": [
    "print(len(lbl_idx))\n",
    "print(len(ulbl_idx))\n",
    "\n",
    "print('lbl_idx')\n",
    "box = []\n",
    "for idx in lbl_idx:\n",
    "    if lbl_idx.count(idx) > 1:\n",
    "        # print(idx, lbl_idx.count(idx))\n",
    "        lbl_idx.remove(idx)\n",
    "        box.append(idx)\n",
    "print(len(box))\n",
    "print(len(lbl_idx))"
   ]
  },
  {
   "cell_type": "code",
   "execution_count": null,
   "metadata": {},
   "outputs": [],
   "source": []
  }
 ],
 "metadata": {
  "kernelspec": {
   "display_name": "Python 3.8.13 ('hyj_spice')",
   "language": "python",
   "name": "python3"
  },
  "language_info": {
   "codemirror_mode": {
    "name": "ipython",
    "version": 3
   },
   "file_extension": ".py",
   "mimetype": "text/x-python",
   "name": "python",
   "nbconvert_exporter": "python",
   "pygments_lexer": "ipython3",
   "version": "3.8.13"
  },
  "orig_nbformat": 4,
  "vscode": {
   "interpreter": {
    "hash": "31e0fc47fabfb722aaf0b8cfc874759de2bcc58da5f34e63f0fae12520165f0b"
   }
  }
 },
 "nbformat": 4,
 "nbformat_minor": 2
}
