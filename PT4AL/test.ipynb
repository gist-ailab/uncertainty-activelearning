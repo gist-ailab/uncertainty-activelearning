{
 "cells": [
  {
   "cell_type": "code",
   "execution_count": 13,
   "metadata": {},
   "outputs": [],
   "source": [
    "import numpy as np\n",
    "import cv2\n",
    "from PIL import Image\n",
    "import torchvision.transforms as transforms\n",
    "import torch"
   ]
  },
  {
   "cell_type": "code",
   "execution_count": 7,
   "metadata": {},
   "outputs": [],
   "source": [
    "transform_train = transforms.Compose([\n",
    "    transforms.Resize([144,144]),\n",
    "    transforms.RandomCrop([128,128]),\n",
    "    transforms.RandomHorizontalFlip(),\n",
    "    transforms.ToTensor(),\n",
    "    transforms.Normalize((0.4914, 0.4822, 0.4465), (0.2023, 0.1994, 0.2010)),\n",
    "])"
   ]
  },
  {
   "cell_type": "code",
   "execution_count": 15,
   "metadata": {},
   "outputs": [
    {
     "name": "stdout",
     "output_type": "stream",
     "text": [
      "torch.Size([3, 64, 128])\n",
      "torch.Size([3, 64, 128])\n",
      "torch.Size([3, 128, 128])\n"
     ]
    }
   ],
   "source": [
    "path = '/home/hinton/NAS_AIlab_dataset/dataset/cifar10/train/cat/house_cat_s_002092.png'\n",
    "img = cv2.imread(path)\n",
    "img = Image.fromarray(img)\n",
    "img = transform_train(img)\n",
    "c,w,h = img.shape\n",
    "img1 = img[:,:w//2,:]\n",
    "img2 = img[:,w//2:,:]\n",
    "img3 = torch.cat((img2,img1),dim=1)\n",
    "print(img1.shape)\n",
    "print(img2.shape)\n",
    "print(img3.shape)"
   ]
  }
 ],
 "metadata": {
  "interpreter": {
   "hash": "f667cd0503524aa538aa0d5145e764fa46aae1358a587b513d444cee8f313e78"
  },
  "kernelspec": {
   "display_name": "Python 3.7.12 ('hyj_pt4al')",
   "language": "python",
   "name": "python3"
  },
  "language_info": {
   "codemirror_mode": {
    "name": "ipython",
    "version": 3
   },
   "file_extension": ".py",
   "mimetype": "text/x-python",
   "name": "python",
   "nbconvert_exporter": "python",
   "pygments_lexer": "ipython3",
   "version": "3.7.12"
  },
  "orig_nbformat": 4
 },
 "nbformat": 4,
 "nbformat_minor": 2
}
