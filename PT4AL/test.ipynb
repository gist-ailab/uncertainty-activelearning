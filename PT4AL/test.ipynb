{
 "cells": [
  {
   "cell_type": "code",
   "execution_count": 9,
   "metadata": {},
   "outputs": [],
   "source": [
    "import numpy as np\n",
    "import cv2\n",
    "from PIL import Image"
   ]
  },
  {
   "cell_type": "code",
   "execution_count": 12,
   "metadata": {},
   "outputs": [
    {
     "name": "stdout",
     "output_type": "stream",
     "text": [
      "(32, 32, 3)\n",
      "<PIL.PngImagePlugin.PngImageFile image mode=RGB size=32x32 at 0x7F87FA2ED290>\n"
     ]
    }
   ],
   "source": [
    "path = '/home/hinton/NAS_AIlab_dataset/dataset/cifar10/train/cat/house_cat_s_002092.png'\n",
    "img = cv2.imread(path)\n",
    "img2 = Image.open(path)\n",
    "print(img.shape)\n",
    "print(img2)"
   ]
  }
 ],
 "metadata": {
  "interpreter": {
   "hash": "f667cd0503524aa538aa0d5145e764fa46aae1358a587b513d444cee8f313e78"
  },
  "kernelspec": {
   "display_name": "Python 3.7.12 ('hyj_pt4al')",
   "language": "python",
   "name": "python3"
  },
  "language_info": {
   "codemirror_mode": {
    "name": "ipython",
    "version": 3
   },
   "file_extension": ".py",
   "mimetype": "text/x-python",
   "name": "python",
   "nbconvert_exporter": "python",
   "pygments_lexer": "ipython3",
   "version": "3.7.12"
  },
  "orig_nbformat": 4
 },
 "nbformat": 4,
 "nbformat_minor": 2
}
