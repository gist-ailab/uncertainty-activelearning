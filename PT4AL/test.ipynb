{
 "cells": [
  {
   "cell_type": "code",
   "execution_count": 1,
   "metadata": {},
   "outputs": [
    {
     "name": "stderr",
     "output_type": "stream",
     "text": [
      "/home/hinton/anaconda3/envs/hyj_pt4al/lib/python3.7/site-packages/tqdm/auto.py:22: TqdmWarning: IProgress not found. Please update jupyter and ipywidgets. See https://ipywidgets.readthedocs.io/en/stable/user_install.html\n",
      "  from .autonotebook import tqdm as notebook_tqdm\n"
     ]
    }
   ],
   "source": [
    "import numpy as np\n",
    "import cv2\n",
    "from PIL import Image\n",
    "import torchvision.transforms as transforms\n",
    "import torch\n",
    "import random"
   ]
  },
  {
   "cell_type": "code",
   "execution_count": 2,
   "metadata": {},
   "outputs": [],
   "source": [
    "transform_train = transforms.Compose([\n",
    "    transforms.Resize([144,144]),\n",
    "    transforms.RandomCrop([128,128]),\n",
    "    transforms.RandomHorizontalFlip(),\n",
    "    transforms.ToTensor(),\n",
    "    transforms.Normalize((0.4914, 0.4822, 0.4465), (0.2023, 0.1994, 0.2010)),\n",
    "])"
   ]
  },
  {
   "cell_type": "code",
   "execution_count": 4,
   "metadata": {},
   "outputs": [
    {
     "name": "stdout",
     "output_type": "stream",
     "text": [
      "torch.Size([3, 64, 128])\n",
      "torch.Size([3, 64, 128])\n",
      "torch.Size([3, 128, 128])\n"
     ]
    }
   ],
   "source": [
    "path = '/home/lecun/NAS_AIlab_dataset/dataset/cifar10/train/cat/house_cat_s_002092.png'\n",
    "img = cv2.imread(path)\n",
    "img = Image.fromarray(img)\n",
    "img = transform_train(img)\n",
    "c,w,h = img.shape\n",
    "img1 = img[:,:w//2,:]\n",
    "img2 = img[:,w//2:,:]\n",
    "img3 = torch.cat((img2,img1),dim=1)\n",
    "print(img1.shape)\n",
    "print(img2.shape)\n",
    "print(img3.shape)"
   ]
  },
  {
   "cell_type": "code",
   "execution_count": 2,
   "metadata": {},
   "outputs": [],
   "source": [
    "def softmax(list):\n",
    "    array = np.array(list)\n",
    "    exp_a = np.exp(array)\n",
    "    sum_exp_a = np.sum(exp_a)\n",
    "    y = exp_a / sum_exp_a\n",
    "    return y"
   ]
  },
  {
   "cell_type": "code",
   "execution_count": 3,
   "metadata": {},
   "outputs": [],
   "source": [
    "def normalize(list):\n",
    "    MAX = max(list)\n",
    "    MIN = min(list)\n",
    "    norm_list = [(x-MIN)/(MAX-MIN) for x in list]\n",
    "    return norm_list"
   ]
  },
  {
   "cell_type": "code",
   "execution_count": 71,
   "metadata": {},
   "outputs": [],
   "source": [
    "c_file = open('/home/hinton/NAS_AIlab_dataset/personal/heo_yunjae/Parameters/Uncertainty/pt4al/cifar10/classification_loss/test_classification_loss.txt', 'r')\n",
    "# o_file = open('/home/hinton/NAS_AIlab_dataset/personal/heo_yunjae/Parameters/Uncertainty/pt4al/cifar10/orderprediction/orderprediction_loss.txt', 'r')\n",
    "r_file = open('/home/hinton/NAS_AIlab_dataset/personal/heo_yunjae/Parameters/Uncertainty/pt4al/cifar10/rotation/test_rotation_loss.txt', 'r')\n",
    "\n",
    "c_loss = []\n",
    "c_pred = []\n",
    "for string in c_file.readlines():\n",
    "    c_loss += [float(string.split('//')[0])]\n",
    "    c_pred += [float(string.split('//')[2])]\n",
    "\n",
    "r_loss = []\n",
    "r_pred = []\n",
    "for string in r_file.readlines():\n",
    "    r_loss += [float(string.split('//')[0])]\n",
    "    r_pred += [float(string.split('//')[2])]\n",
    "\n",
    "c_norm = c_loss\n",
    "r_norm = r_loss\n",
    "\n",
    "# c_norm = [float(np.log(1+i)) for i in c_loss]\n",
    "# o_norm = [float(np.log(1+i))/sum(o_loss) for i in o_loss]\n",
    "# r_norm = [float(np.log(1+i)) for i in r_loss]\n",
    "\n",
    "c_norm = np.argsort(c_loss)\n",
    "# o_norm = np.argsort(o_loss)\n",
    "r_norm = np.argsort(r_loss)\n",
    "\n",
    "# c_norm = c_norm / max(c_norm)\n",
    "# # o_norm = o_norm / max(o_norm)\n",
    "# r_norm = r_norm / max(r_norm)\n",
    "\n",
    "c_norm = normalize(c_norm)\n",
    "# o_norm = normalize(o_loss)\n",
    "r_norm = normalize(r_norm)\n",
    "\n",
    "# print(len(c_norm))\n",
    "# print(len(o_norm))\n",
    "# print(len(r_norm))"
   ]
  },
  {
   "cell_type": "code",
   "execution_count": 83,
   "metadata": {},
   "outputs": [
    {
     "name": "stdout",
     "output_type": "stream",
     "text": [
      "7420.0\n",
      "[0.49264926492649264, 0.8747874787478748, 0.4967496749674967, 0.9867986798679867, 0.49874987498749873]\n"
     ]
    }
   ],
   "source": [
    "idx = [c and r for c,r in zip(c_pred,r_pred)]\n",
    "print(sum(idx))\n",
    "c_corr = [c_norm[i] for i in range(len(idx)) if idx[i]==1.0]\n",
    "r_corr = [r_norm[i] for i in range(len(idx)) if idx[i]==1.0]\n",
    "print(c_corr[:5])"
   ]
  },
  {
   "cell_type": "code",
   "execution_count": 86,
   "metadata": {},
   "outputs": [
    {
     "name": "stdout",
     "output_type": "stream",
     "text": [
      "7420\n"
     ]
    },
    {
     "data": {
      "image/png": "[encoded data removed]",
      "text/plain": [
       "<Figure size 432x288 with 1 Axes>"
      ]
     },
     "metadata": {
      "needs_background": "light"
     },
     "output_type": "display_data"
    },
    {
     "name": "stdout",
     "output_type": "stream",
     "text": [
      "SpearmanrResult(correlation=0.044212274302122746, pvalue=9.741307492581302e-06)\n"
     ]
    }
   ],
   "source": [
    "import matplotlib.pyplot as plt\n",
    "from scipy.stats import spearmanr\n",
    "\n",
    "# plt.plot(c_norm[:15], r_norm[:15], 'ro')\n",
    "print(len(c_corr))\n",
    "c_sample = [c_corr[i] for i in range(0,len(c_corr),10)]\n",
    "r_sample = [r_corr[i] for i in range(0,len(r_corr),10)]\n",
    "plt.plot(c_sample, r_sample, 'ro')\n",
    "# plt.xlim(0,1)\n",
    "# plt.ylim(0,1)\n",
    "plt.show()\n",
    "\n",
    "# score = spearmanr(c_norm[:1000], r_norm[:1000])\n",
    "score = spearmanr(c_norm, r_norm)\n",
    "print(score)"
   ]
  },
  {
   "cell_type": "code",
   "execution_count": 17,
   "metadata": {},
   "outputs": [
    {
     "data": {
      "image/png": "[encoded data removed]",
      "text/plain": [
       "<Figure size 432x288 with 1 Axes>"
      ]
     },
     "metadata": {
      "needs_background": "light"
     },
     "output_type": "display_data"
    }
   ],
   "source": [
    "plt.plot(r_norm[:1000], o_norm[:1000], 'ro')\n",
    "plt.show()"
   ]
  },
  {
   "cell_type": "code",
   "execution_count": 125,
   "metadata": {},
   "outputs": [
    {
     "name": "stdout",
     "output_type": "stream",
     "text": [
      "[0.002284181071445346, 6.341733387671411e-05, 5.6622808187967166e-05, 6.7193403244018555, 2.8271126747131348]\n",
      "[0.9977184534072876, 0.999936580657959, 0.9999433755874634, 0.5993468165397644, 0.9408165216445923]\n",
      "[10.452502250671387, 15.925614356994629, 11.566078186035156, 11.13090991973877, 15.667659759521484]\n",
      "[1.0, 1.0, 1.0, 0.0, 0.0]\n",
      "10000\n"
     ]
    },
    {
     "data": {
      "image/png": "[encoded data removed]",
      "text/plain": [
       "<Figure size 432x288 with 1 Axes>"
      ]
     },
     "metadata": {
      "needs_background": "light"
     },
     "output_type": "display_data"
    },
    {
     "name": "stdout",
     "output_type": "stream",
     "text": [
      "SpearmanrResult(correlation=-0.6858130273445555, pvalue=0.0)\n"
     ]
    }
   ],
   "source": [
    "file = open('/home/hinton/NAS_AIlab_dataset/personal/heo_yunjae/Parameters/Uncertainty/pt4al/cifar10/classification_loss/classification_loss_confidence_distance.txt', 'r')\n",
    "loss = []\n",
    "conf = []\n",
    "dist = []\n",
    "correct = []\n",
    "for string in file.readlines():\n",
    "    loss += [float(string.split('//')[0])]\n",
    "    conf += [float(string.split('//')[1])]\n",
    "    dist += [float(string.split('//')[2])]\n",
    "    correct += [float(string.split('//')[3])]\n",
    "print(loss[:5])\n",
    "print(conf[:5])\n",
    "print(dist[:5])\n",
    "print(correct[:5])\n",
    "\n",
    "# print(max(dist))\n",
    "# print(min(dist))\n",
    "print(len(loss))\n",
    "\n",
    "norm_loss = normalize(loss)\n",
    "norm_conf = normalize(conf)\n",
    "norm_dist = normalize(dist)\n",
    "\n",
    "correct_loss = []\n",
    "correct_conf = []\n",
    "correct_dist = []\n",
    "incorr_loss = []\n",
    "incorr_conf = []\n",
    "incorr_dist = []\n",
    "for i in range(len(loss)):\n",
    "    if(correct[i]==1.0):\n",
    "        correct_loss.append(loss[i])\n",
    "        correct_conf.append(conf[i])\n",
    "        correct_dist.append(dist[i])\n",
    "    else:\n",
    "        incorr_loss.append(loss[i])\n",
    "        incorr_conf.append(conf[i])\n",
    "        incorr_dist.append(dist[i])\n",
    "\n",
    "import matplotlib.pyplot as plt\n",
    "from scipy.stats import spearmanr\n",
    "\n",
    "# plt.plot(loss_rank[:1000], conf_rank[:1000], 'ro')\n",
    "# plt.plot(loss[:100], conf[:100], 'ro')\n",
    "# plt.plot(norm_loss, norm_conf, 'ro')\n",
    "# plt.plot(loss, conf, 'ro')\n",
    "reverse_incorr_conf = [1-incorr_conf[i] for i in range(len(incorr_conf))]\n",
    "plt.plot(correct_loss, correct_conf, 'bo', incorr_loss, incorr_conf, 'ro')\n",
    "plt.xlim(0,2)\n",
    "# plt.ylim(0,1)\n",
    "plt.show()\n",
    "\n",
    "score = spearmanr(loss, conf)\n",
    "print(score)"
   ]
  },
  {
   "cell_type": "code",
   "execution_count": 114,
   "metadata": {},
   "outputs": [
    {
     "name": "stdout",
     "output_type": "stream",
     "text": [
      "2096\n",
      "7904\n",
      "60\n",
      "1473\n",
      "5831\n",
      "495\n",
      "1748\n",
      "0.5127832293510437\n",
      "[0.9670734405517578]\n"
     ]
    }
   ],
   "source": [
    "print(len(correct_loss))\n",
    "print(len(incorr_loss))\n",
    "print(len([incorr_loss[i] for i in range(len(incorr_loss)) if incorr_loss[i] < 1 and incorr_loss[i] > 0.5]))\n",
    "\n",
    "print(len([correct_conf[i] for i in range(len(correct_conf)) if correct_conf[i] > 0.99]))\n",
    "print(len([incorr_conf[i] for i in range(len(incorr_conf)) if incorr_conf[i] > 0.99]))\n",
    "\n",
    "print(len([correct_conf[i] for i in range(len(correct_conf)) if correct_conf[i] < 0.975]))\n",
    "print(len([incorr_conf[i] for i in range(len(incorr_conf)) if incorr_conf[i] < 0.975]))\n",
    "\n",
    "special_conf = [incorr_conf[i] for i in range(len(incorr_conf)) if incorr_conf[i] > 0.99]\n",
    "special_loss = [incorr_loss[i] for i in range(len(incorr_conf)) if incorr_conf[i] > 0.99]\n",
    "special_dist = [incorr_dist[i] for i in range(len(incorr_conf)) if incorr_conf[i] > 0.99]\n",
    "\n",
    "print(np.min([incorr_conf[i] for i in range(len(incorr_conf)) if incorr_loss[i] < 1 and incorr_loss[i] > 0.9]))\n",
    "print([incorr_loss[i] for i in range(len(incorr_conf)) if incorr_loss[i] < 1 and incorr_loss[i] > 0.9 and incorr_conf[i] == 0.5127832293510437])\n",
    "# print(np.min(incorr_loss))"
   ]
  },
  {
   "cell_type": "code",
   "execution_count": 131,
   "metadata": {},
   "outputs": [
    {
     "data": {
      "image/png": "[encoded data removed]",
      "text/plain": [
       "<Figure size 432x288 with 1 Axes>"
      ]
     },
     "metadata": {
      "needs_background": "light"
     },
     "output_type": "display_data"
    },
    {
     "name": "stdout",
     "output_type": "stream",
     "text": [
      "SpearmanrResult(correlation=-0.4230043209606764, pvalue=0.0)\n"
     ]
    }
   ],
   "source": [
    "# plt.plot(norm_loss, norm_dist, 'ro')\n",
    "# plt.plot(loss, dist, 'ro')\n",
    "plt.plot(correct_loss, correct_dist, 'bo', incorr_loss, incorr_dist, 'ro')\n",
    "plt.xlim(0,10)\n",
    "# plt.ylim(0,1000)\n",
    "plt.show()\n",
    "\n",
    "score = spearmanr(loss, norm_dist)\n",
    "print(score)"
   ]
  },
  {
   "cell_type": "code",
   "execution_count": 19,
   "metadata": {},
   "outputs": [
    {
     "data": {
      "image/png": "[encoded data removed]",
      "text/plain": [
       "<Figure size 432x288 with 1 Axes>"
      ]
     },
     "metadata": {
      "needs_background": "light"
     },
     "output_type": "display_data"
    },
    {
     "name": "stdout",
     "output_type": "stream",
     "text": [
      "SpearmanrResult(correlation=-0.8659224292535013, pvalue=0.0)\n"
     ]
    }
   ],
   "source": [
    "Uni = [(conf[i]+dist[i])/2 for i in range(len(loss))]\n",
    "\n",
    "plt.plot(loss[:2950], Uni[:2950], 'ro')\n",
    "plt.xlim(0,1)\n",
    "plt.ylim(0,1)\n",
    "plt.show()\n",
    "\n",
    "score = spearmanr(loss[:2950], Uni[:2950])\n",
    "print(score)"
   ]
  },
  {
   "cell_type": "code",
   "execution_count": 66,
   "metadata": {},
   "outputs": [
    {
     "name": "stdout",
     "output_type": "stream",
     "text": [
      "tensor([0.0043, 0.0116, 0.0315, 0.0858, 0.2331, 0.6337])\n",
      "tensor(0.6337)\n"
     ]
    }
   ],
   "source": [
    "import torch\n",
    "import torch.nn.functional as F\n",
    "a = torch.tensor([1.0,2.0,3.0,4.0,5.0,6.0])\n",
    "print(F.softmax(a, dim=-1))\n",
    "confidence = torch.max(F.softmax(a, dim=-1))\n",
    "print(confidence)"
   ]
  }
 ],
 "metadata": {
  "kernelspec": {
   "display_name": "Python 3.7.12 ('hyj_pt4al')",
   "language": "python",
   "name": "python3"
  },
  "language_info": {
   "codemirror_mode": {
    "name": "ipython",
    "version": 3
   },
   "file_extension": ".py",
   "mimetype": "text/x-python",
   "name": "python",
   "nbconvert_exporter": "python",
   "pygments_lexer": "ipython3",
   "version": "3.7.12"
  },
  "orig_nbformat": 4,
  "vscode": {
   "interpreter": {
    "hash": "f667cd0503524aa538aa0d5145e764fa46aae1358a587b513d444cee8f313e78"
   }
  }
 },
 "nbformat": 4,
 "nbformat_minor": 2
}
